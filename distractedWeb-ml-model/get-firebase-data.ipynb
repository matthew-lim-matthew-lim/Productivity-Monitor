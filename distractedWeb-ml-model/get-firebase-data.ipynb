{
 "cells": [
  {
   "cell_type": "markdown",
   "metadata": {},
   "source": [
    "Code to get the Firebase data, and make it into a `.csv` so we can train the ML model."
   ]
  },
  {
   "cell_type": "code",
   "execution_count": 1,
   "metadata": {},
   "outputs": [
    {
     "name": "stdout",
     "output_type": "stream",
     "text": [
      "CSV saved as urls_dataset.csv\n"
     ]
    }
   ],
   "source": [
    "from google.cloud import firestore\n",
    "import pandas as pd\n",
    "\n",
    "# Connect to firestore DB\n",
    "db = firestore.Client(project=\"productivity-monitor-8715c\")\n",
    "collection = db.collection(\"urls\")\n",
    "\n",
    "# Get all the data from the DB\n",
    "docs = collection.stream()\n",
    "data = [doc.to_dict() for doc in docs]\n",
    "\n",
    "# Convert the data into a csv file\n",
    "df = pd.DataFrame(data)\n",
    "df.to_csv(\"urls_dataset.csv\", index=False)\n",
    "\n",
    "print(\"CSV saved as urls_dataset.csv\")"
   ]
  }
 ],
 "metadata": {
  "kernelspec": {
   "display_name": "Python 3",
   "language": "python",
   "name": "python3"
  },
  "language_info": {
   "codemirror_mode": {
    "name": "ipython",
    "version": 3
   },
   "file_extension": ".py",
   "mimetype": "text/x-python",
   "name": "python",
   "nbconvert_exporter": "python",
   "pygments_lexer": "ipython3",
   "version": "3.10.12"
  }
 },
 "nbformat": 4,
 "nbformat_minor": 2
}
