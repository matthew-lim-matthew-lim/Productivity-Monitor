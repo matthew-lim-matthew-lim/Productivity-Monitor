{
 "cells": [
  {
   "cell_type": "code",
   "execution_count": null,
   "metadata": {},
   "outputs": [
    {
     "name": "stdout",
     "output_type": "stream",
     "text": [
      "Epoch 1/10\n",
      "\u001b[1m551/551\u001b[0m \u001b[32m━━━━━━━━━━━━━━━━━━━━\u001b[0m\u001b[37m\u001b[0m \u001b[1m4s\u001b[0m 6ms/step - accuracy: 0.7477 - loss: 0.5618 - val_accuracy: 0.7541 - val_loss: 0.5397\n",
      "Epoch 2/10\n",
      "\u001b[1m551/551\u001b[0m \u001b[32m━━━━━━━━━━━━━━━━━━━━\u001b[0m\u001b[37m\u001b[0m \u001b[1m3s\u001b[0m 5ms/step - accuracy: 0.7705 - loss: 0.4977 - val_accuracy: 0.8785 - val_loss: 0.3379\n",
      "Epoch 3/10\n",
      "\u001b[1m551/551\u001b[0m \u001b[32m━━━━━━━━━━━━━━━━━━━━\u001b[0m\u001b[37m\u001b[0m \u001b[1m3s\u001b[0m 5ms/step - accuracy: 0.8706 - loss: 0.3230 - val_accuracy: 0.8890 - val_loss: 0.3126\n",
      "Epoch 4/10\n",
      "\u001b[1m551/551\u001b[0m \u001b[32m━━━━━━━━━━━━━━━━━━━━\u001b[0m\u001b[37m\u001b[0m \u001b[1m3s\u001b[0m 5ms/step - accuracy: 0.8980 - loss: 0.2663 - val_accuracy: 0.8874 - val_loss: 0.3124\n",
      "Epoch 5/10\n",
      "\u001b[1m551/551\u001b[0m \u001b[32m━━━━━━━━━━━━━━━━━━━━\u001b[0m\u001b[37m\u001b[0m \u001b[1m3s\u001b[0m 5ms/step - accuracy: 0.9001 - loss: 0.2513 - val_accuracy: 0.8758 - val_loss: 0.3079\n",
      "Epoch 6/10\n",
      "\u001b[1m551/551\u001b[0m \u001b[32m━━━━━━━━━━━━━━━━━━━━\u001b[0m\u001b[37m\u001b[0m \u001b[1m3s\u001b[0m 5ms/step - accuracy: 0.9040 - loss: 0.2442 - val_accuracy: 0.8881 - val_loss: 0.2680\n",
      "Epoch 7/10\n",
      "\u001b[1m551/551\u001b[0m \u001b[32m━━━━━━━━━━━━━━━━━━━━\u001b[0m\u001b[37m\u001b[0m \u001b[1m3s\u001b[0m 5ms/step - accuracy: 0.9152 - loss: 0.2128 - val_accuracy: 0.8910 - val_loss: 0.2653\n",
      "Epoch 8/10\n",
      "\u001b[1m551/551\u001b[0m \u001b[32m━━━━━━━━━━━━━━━━━━━━\u001b[0m\u001b[37m\u001b[0m \u001b[1m3s\u001b[0m 5ms/step - accuracy: 0.9126 - loss: 0.2150 - val_accuracy: 0.9008 - val_loss: 0.2600\n",
      "Epoch 9/10\n",
      "\u001b[1m551/551\u001b[0m \u001b[32m━━━━━━━━━━━━━━━━━━━━\u001b[0m\u001b[37m\u001b[0m \u001b[1m2s\u001b[0m 4ms/step - accuracy: 0.9203 - loss: 0.2033 - val_accuracy: 0.8928 - val_loss: 0.2631\n",
      "Epoch 10/10\n",
      "\u001b[1m551/551\u001b[0m \u001b[32m━━━━━━━━━━━━━━━━━━━━\u001b[0m\u001b[37m\u001b[0m \u001b[1m3s\u001b[0m 5ms/step - accuracy: 0.9198 - loss: 0.1977 - val_accuracy: 0.8944 - val_loss: 0.2694\n",
      "\u001b[1m173/173\u001b[0m \u001b[32m━━━━━━━━━━━━━━━━━━━━\u001b[0m\u001b[37m\u001b[0m \u001b[1m0s\u001b[0m 1ms/step - accuracy: 0.8781 - loss: 0.2919\n",
      "Test accuracy: 0.883\n",
      "INFO:tensorflow:Assets written to: distraction_detector_model_tf/assets\n"
     ]
    },
    {
     "name": "stderr",
     "output_type": "stream",
     "text": [
      "INFO:tensorflow:Assets written to: distraction_detector_model_tf/assets\n"
     ]
    }
   ],
   "source": [
    "import pandas as pd\n",
    "import numpy as np\n",
    "import tensorflow as tf\n",
    "from tensorflow import keras\n",
    "from tensorflow.keras import layers\n",
    "from sklearn.model_selection import train_test_split\n",
    "\n",
    "# Load the url dataset\n",
    "df = pd.read_csv('urls_dataset.csv')\n",
    "\n",
    "# Preprocess the data: convert titles to strings and distractions to integers\n",
    "texts = df['title'].astype(str).tolist()\n",
    "labels = df['distraction'].astype(int).tolist()\n",
    "\n",
    "# Split into train and test sets\n",
    "x_train, x_test, y_train, y_test = train_test_split(texts, labels, test_size=0.2, random_state=42)\n",
    "\n",
    "# Convert labels to NumPy arrays\n",
    "y_train = np.array(y_train)\n",
    "y_test = np.array(y_test)\n",
    "\n",
    "# Set up text vectorisation\n",
    "max_features = 10000\n",
    "sequence_length = 100\n",
    "\n",
    "vectorizer = layers.TextVectorization(\n",
    "    max_tokens=max_features,\n",
    "    output_mode='int',\n",
    "    output_sequence_length=sequence_length\n",
    ")\n",
    "vectorizer.adapt(x_train)\n",
    "\n",
    "# Vectorize the training and testing data\n",
    "x_train_vec = vectorizer(np.array([[s] for s in x_train])).numpy()\n",
    "x_test_vec = vectorizer(np.array([[s] for s in x_test])).numpy()\n",
    "\n",
    "# Build the model\n",
    "model = keras.Sequential([\n",
    "    layers.Embedding(input_dim=max_features, output_dim=64),\n",
    "    layers.GlobalAveragePooling1D(),\n",
    "    layers.Dense(64, activation='relu'),\n",
    "    layers.Dense(1, activation='sigmoid')\n",
    "])\n",
    "\n",
    "# Compile the model\n",
    "model.compile(\n",
    "    loss='binary_crossentropy',\n",
    "    optimizer='adam',\n",
    "    metrics=['accuracy']\n",
    ")\n",
    "\n",
    "# Train the model using validation_split \n",
    "model.fit(x_train_vec, y_train, epochs=10, batch_size=32, validation_split=0.2)\n",
    "\n",
    "# Evaluate the model\n",
    "loss, accuracy = model.evaluate(x_test_vec, y_test)\n",
    "print(f'Test accuracy: {accuracy:.3f}')\n",
    "\n",
    "# Save the model as a TensorFlow SavedModel\n",
    "tf.saved_model.save(model, 'distraction_detector_model_tf')\n"
   ]
  }
 ],
 "metadata": {
  "kernelspec": {
   "display_name": "Python 3",
   "language": "python",
   "name": "python3"
  },
  "language_info": {
   "codemirror_mode": {
    "name": "ipython",
    "version": 3
   },
   "file_extension": ".py",
   "mimetype": "text/x-python",
   "name": "python",
   "nbconvert_exporter": "python",
   "pygments_lexer": "ipython3",
   "version": "3.10.12"
  }
 },
 "nbformat": 4,
 "nbformat_minor": 2
}
